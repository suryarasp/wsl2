{
  "nbformat": 4,
  "nbformat_minor": 0,
  "metadata": {
    "colab": {
      "provenance": [],
      "mount_file_id": "16aAGvhKEmcl4Xl0xHurworv_CIanGTvF",
      "authorship_tag": "ABX9TyMjW4qJBprErlr7QuqeXVYc",
      "include_colab_link": true
    },
    "kernelspec": {
      "name": "python3",
      "display_name": "Python 3"
    },
    "language_info": {
      "name": "python"
    }
  },
  "cells": [
    {
      "cell_type": "markdown",
      "metadata": {
        "id": "view-in-github",
        "colab_type": "text"
      },
      "source": [
        "<a href=\"https://colab.research.google.com/github/suryarasp/wsl2/blob/main/Nifty50.ipynb\" target=\"_parent\"><img src=\"https://colab.research.google.com/assets/colab-badge.svg\" alt=\"Open In Colab\"/></a>"
      ]
    },
    {
      "cell_type": "code",
      "source": [
        "# Step 1: Mount Google Drive\n",
        "from google.colab import drive\n",
        "drive.mount('/content/drive')\n",
        "\n",
        "# Step 2: Install necessary libraries\n",
        "!pip install yfinance pandas\n",
        "\n",
        "# Step 3: Download NSE 50 stocks data using yfinance\n",
        "import yfinance as yf\n",
        "import pandas as pd\n",
        "\n",
        "# Define the ticker symbols for NSE 50 stocks\n",
        "nse50_tickers = [\n",
        "    'RELIANCE.NS', 'TCS.NS', 'HDFCBANK.NS', 'INFY.NS', 'ICICIBANK.NS',\n",
        "    'HINDUNILVR.NS', 'HDFC.NS', 'SBIN.NS', 'KOTAKBANK.NS', 'BHARTIARTL.NS',\n",
        "    'ITC.NS', 'ASIANPAINT.NS', 'BAJFINANCE.NS', 'LT.NS', 'HCLTECH.NS',\n",
        "    'AXISBANK.NS', 'MARUTI.NS', 'SUNPHARMA.NS', 'NESTLEIND.NS', 'ULTRACEMCO.NS',\n",
        "    'TITAN.NS', 'M&M.NS', 'INDUSINDBK.NS', 'WIPRO.NS', 'POWERGRID.NS',\n",
        "    'NTPC.NS', 'HDFCLIFE.NS', 'BAJAJFINSV.NS', 'TECHM.NS', 'JSWSTEEL.NS',\n",
        "    'DIVISLAB.NS', 'TATASTEEL.NS', 'HEROMOTOCO.NS', 'BPCL.NS', 'ADANIENT.NS',\n",
        "    'SHREECEM.NS', 'GRASIM.NS', 'BRITANNIA.NS', 'CIPLA.NS', 'ONGC.NS',\n",
        "    'TATAMOTORS.NS', 'COALINDIA.NS', 'ADANIPORTS.NS', 'SBILIFE.NS', 'APOLLOHOSP.NS',\n",
        "    'BAJAJ-AUTO.NS', 'EICHERMOT.NS', 'UPL.NS', 'HINDALCO.NS', 'DRREDDY.NS'\n",
        "]\n",
        "print(type(nse50_tickers))\n",
        "df = pd.read_csv('/content/drive/MyDrive/Colab Notebooks/input/ind_nifty200list.csv',index_col=False)\n",
        "nse200_tickers= df.iloc[:, 0].tolist()\n",
        "print(nse200_tickers)\n",
        "\n"
      ],
      "metadata": {
        "id": "hKOgy5Aw-L4D"
      },
      "execution_count": null,
      "outputs": []
    },
    {
      "cell_type": "code",
      "source": [
        "# Create a DataFrame to store the stock data\n",
        "stock_data = []\n",
        "\n",
        "# Fetch the data for each ticker\n",
        "for ticker in nse200_tickers:\n",
        "    stock = yf.Ticker(ticker)\n",
        "    data = stock.history(period=\"5d\")\n",
        "    if len(data) < 2:\n",
        "        continue\n",
        "    closing_price = data['Close'].iloc[-1]\n",
        "    prev_closing_price = data['Close'].iloc[-2]\n",
        "    volume = data['Volume'].iloc[-1]\n",
        "    prev_volume = data['Volume'].iloc[-2]\n",
        "    volume_change = ((volume - prev_volume) / prev_volume) * 100\n",
        "    price_change = ((closing_price - prev_closing_price) / prev_closing_price) * 100\n",
        "    stock_data.append({\n",
        "        'Symbol': ticker,\n",
        "        'Closing Price': closing_price,\n",
        "        'Prev Closing Price': prev_closing_price,\n",
        "        'Volume': volume,\n",
        "        'Prev Volume': prev_volume,\n",
        "        'Volume Change (%)': volume_change,\n",
        "        'Price Change (%)': price_change\n",
        "    })\n",
        "\n",
        "# Convert to DataFrame\n",
        "df = pd.DataFrame(stock_data)\n",
        "\n",
        "# Separate stocks with more than 5% volume change\n",
        "significant_volume_change = df[df['Volume Change (%)'] > 5]\n",
        "\n",
        "# Save the DataFrame to Google Drive\n",
        "file_path = '/content/drive/My Drive/NSE50_Closing_Prices_Volume.csv'\n",
        "df.to_csv(file_path, index=False)\n",
        "print(f\"File saved to {file_path}\")\n",
        "\n",
        "# Save the significant volume change DataFrame to Google Drive\n",
        "significant_file_path = '/content/drive/My Drive/NSE50_Significant_Volume_Change.csv'\n",
        "significant_volume_change.to_csv(significant_file_path, index=False)\n",
        "print(f\"Significant volume change file saved to {significant_file_path}\")\n",
        "\n",
        "# Load the CSV file from Google Drive\n",
        "df_loaded = pd.read_csv(file_path)\n",
        "\n",
        "# Display the loaded DataFrame\n",
        "df_loaded"
      ],
      "metadata": {
        "id": "QuE_gEW-1jpf"
      },
      "execution_count": null,
      "outputs": []
    },
    {
      "cell_type": "code",
      "source": [
        "import plotly.express as px\n",
        "# Filter stocks with positive price change\n",
        "positive_price_change = df[df['Price Change (%)'] > 0]\n",
        "# Create a scatter plot\n",
        "fig = px.scatter(\n",
        "    positive_price_change,\n",
        "    x='Volume Change (%)',\n",
        "    y='Price Change (%)',\n",
        "    size='Volume',\n",
        "    color='Symbol',\n",
        "    hover_name='Symbol',\n",
        "    hover_data=['Closing Price', 'Prev Closing Price', 'Volume', 'Prev Volume'],\n",
        "    title='Volume Change (%) vs. Price Change (%) for Positive Price Change Stocks',\n",
        "    labels={\n",
        "        'Volume Change (%)': 'Volume Change (%)',\n",
        "        'Price Change (%)': 'Price Change (%)'\n",
        "    }\n",
        ")\n",
        "\n",
        "# Show the plot\n",
        "fig.show()"
      ],
      "metadata": {
        "id": "TumReL_DJ-QL"
      },
      "execution_count": null,
      "outputs": []
    },
    {
      "cell_type": "code",
      "source": [
        "import yfinance as yf\n",
        "import plotly.graph_objects as go\n",
        "from plotly.subplots import make_subplots\n",
        "\n",
        "# Define the ticker symbol\n",
        "ticker_symbol = 'RVNL.NS'  # Example: Apple Inc.\n",
        "\n",
        "# Create a Ticker object\n",
        "ticker = yf.Ticker(ticker_symbol)\n",
        "\n",
        "# Get historical market data for the last month\n",
        "historical_data = ticker.history(period='1mo')\n",
        "\n",
        "# Extract required data (volume and closing price)\n",
        "last_month_data = historical_data[['Volume', 'Close']]\n",
        "\n",
        "# Create subplots with shared x-axis\n",
        "fig = make_subplots(rows=2, cols=1, shared_xaxes=True,\n",
        "                    subplot_titles=('Volume', 'Closing Price'))\n",
        "\n",
        "# Adding volume trace to the first subplot\n",
        "fig.add_trace(go.Bar(x=last_month_data.index, y=last_month_data['Volume'], name='Volume'),\n",
        "              row=1, col=1)\n",
        "\n",
        "# Adding closing price trace to the second subplot\n",
        "fig.add_trace(go.Scatter(x=last_month_data.index, y=last_month_data['Close'], mode='lines', name='Closing Price'),\n",
        "              row=2, col=1)\n",
        "\n",
        "# Update axes titles\n",
        "fig.update_xaxes(title_text='Date', row=2, col=1)\n",
        "fig.update_yaxes(title_text='Volume', row=1, col=1)\n",
        "fig.update_yaxes(title_text='Price', row=2, col=1)\n",
        "\n",
        "# Update layout\n",
        "fig.update_layout(title='Volume and Closing Price of {} - Last Month'.format(ticker_symbol),\n",
        "                  height=600, width=800,\n",
        "                  template='plotly_white')\n",
        "\n",
        "# Show plot\n",
        "fig.show()\n",
        "\n"
      ],
      "metadata": {
        "id": "cexpbrtM55F3"
      },
      "execution_count": null,
      "outputs": []
    },
    {
      "cell_type": "markdown",
      "source": [
        "\n",
        "# Select Net Income data\n",
        "net_income_data = historical_data[['Net Income']]\n",
        "\n",
        "# Calculate percentage growth in earnings quarter-to-quarter\n",
        "net_income_data['Earnings Growth (%)'] = net_income_data['Net Income'].pct_change() * 100\n",
        "\n",
        "# Filter to get data for the past 8 quarters (last 2 years)\n",
        "net_income_data_last_8_quarters = net_income_data.tail(8)\n",
        "\n",
        "# Display the earnings growth data as a table\n",
        "print(net_income_data_last_8_quarters)"
      ],
      "metadata": {
        "id": "2TtGQlvVJU8O"
      }
    }
  ]
}